{
 "cells": [
  {
   "cell_type": "code",
   "execution_count": 1,
   "metadata": {},
   "outputs": [
    {
     "name": "stderr",
     "output_type": "stream",
     "text": [
      "/cluster/home/stefandt/anaconda3/envs/ppconda/lib/python3.11/site-packages/tqdm/auto.py:21: TqdmWarning: IProgress not found. Please update jupyter and ipywidgets. See https://ipywidgets.readthedocs.io/en/stable/user_install.html\n",
      "  from .autonotebook import tqdm as notebook_tqdm\n"
     ]
    },
    {
     "name": "stdout",
     "output_type": "stream",
     "text": [
      "device: cpu\n"
     ]
    }
   ],
   "source": [
    "import sys\n",
    "from pathlib import Path\n",
    "\n",
    "proj_path = Path('/cluster') / 'work' / 'jacobaal' / 'pers-pred'\n",
    "proj_path = proj_path.resolve()\n",
    "if proj_path not in sys.path: sys.path.append(str(proj_path))\n",
    "\n",
    "import torch\n",
    "from torch import nn\n",
    "from torch.utils.data import DataLoader\n",
    "import pandas as pd\n",
    "import src.fcki as fcki\n",
    "from src.utils import get_commons\n",
    "from src.metrics import BCEMetric, MAEMetric\n",
    "from src.ffn import Encoder, Decoder\n",
    "from src.datasets import SingleInputDataset, get_mtl_dataloaders\n",
    "from src.trainer import MTLTrainer\n",
    "import LibMTL as mtl"
   ]
  },
  {
   "cell_type": "code",
   "execution_count": 2,
   "metadata": {},
   "outputs": [
    {
     "name": "stderr",
     "output_type": "stream",
     "text": [
      "2024-06-01 12:57:54,777 - ArgumentLogger - INFO - Arguments:\n",
      "2024-06-01 12:57:54,777 - ArgumentLogger - INFO - Arguments:\n",
      "2024-06-01 12:57:54,778 - ArgumentLogger - INFO - seed: 42\n",
      "2024-06-01 12:57:54,778 - ArgumentLogger - INFO - seed: 42\n",
      "2024-06-01 12:57:54,780 - ArgumentLogger - INFO - dataframe: {'generate': False, 'mbti_frac': 0.1, 'bigfive_c_frac': 1.0, 'bigfive_s_frac': 1.0}\n",
      "2024-06-01 12:57:54,780 - ArgumentLogger - INFO - dataframe: {'generate': False, 'mbti_frac': 0.1, 'bigfive_c_frac': 1.0, 'bigfive_s_frac': 1.0}\n",
      "2024-06-01 12:57:54,781 - ArgumentLogger - INFO - eda: {'generate': False}\n",
      "2024-06-01 12:57:54,781 - ArgumentLogger - INFO - eda: {'generate': False}\n",
      "2024-06-01 12:57:54,783 - ArgumentLogger - INFO - reduce: {'generate': False, 'use_full': False}\n",
      "2024-06-01 12:57:54,783 - ArgumentLogger - INFO - reduce: {'generate': False, 'use_full': False}\n",
      "2024-06-01 12:57:54,784 - ArgumentLogger - INFO - preprocessing: {'generate_features': False, 'generate_partially_cleaned': False, 'generate_cleaned': False, 'generate_embeddings': False, 'generate_aggregated': True, 'generate_glove': False, 'generate_filled': True}\n",
      "2024-06-01 12:57:54,784 - ArgumentLogger - INFO - preprocessing: {'generate_features': False, 'generate_partially_cleaned': False, 'generate_cleaned': False, 'generate_embeddings': False, 'generate_aggregated': True, 'generate_glove': False, 'generate_filled': True}\n",
      "2024-06-01 12:57:54,786 - ArgumentLogger - INFO - tokenizer: {'do_lower_case': True, 'padding_side': 'right', 'truncation_side': 'right', 'max_length': 128, 'padding': 'max_length', 'truncation': True}\n",
      "2024-06-01 12:57:54,786 - ArgumentLogger - INFO - tokenizer: {'do_lower_case': True, 'padding_side': 'right', 'truncation_side': 'right', 'max_length': 128, 'padding': 'max_length', 'truncation': True}\n",
      "2024-06-01 12:57:54,787 - ArgumentLogger - INFO - split: {'train': 0.8, 'test': 0.1}\n",
      "2024-06-01 12:57:54,787 - ArgumentLogger - INFO - split: {'train': 0.8, 'test': 0.1}\n",
      "2024-06-01 12:57:54,789 - ArgumentLogger - INFO - dataloaders: {'train': {'num_workers': 1, 'pin_memory': False, 'batch_size': 1028, 'shuffle': True, 'drop_last': True}, 'test': {'num_workers': 1, 'pin_memory': False, 'batch_size': 1028, 'shuffle': False, 'drop_last': False}, 'val': {'num_workers': 1, 'pin_memory': False, 'batch_size': 1028, 'shuffle': False, 'drop_last': False}}\n",
      "2024-06-01 12:57:54,789 - ArgumentLogger - INFO - dataloaders: {'train': {'num_workers': 1, 'pin_memory': False, 'batch_size': 1028, 'shuffle': True, 'drop_last': True}, 'test': {'num_workers': 1, 'pin_memory': False, 'batch_size': 1028, 'shuffle': False, 'drop_last': False}, 'val': {'num_workers': 1, 'pin_memory': False, 'batch_size': 1028, 'shuffle': False, 'drop_last': False}}\n",
      "2024-06-01 12:57:54,790 - ArgumentLogger - INFO - embeddings: {'model': 'tw-roberta'}\n",
      "2024-06-01 12:57:54,790 - ArgumentLogger - INFO - embeddings: {'model': 'tw-roberta'}\n",
      "2024-06-01 12:57:54,791 - ArgumentLogger - INFO - encoder: {'nn': [768, 4096, 1024], 'dropout': 0.3}\n",
      "2024-06-01 12:57:54,791 - ArgumentLogger - INFO - encoder: {'nn': [768, 4096, 1024], 'dropout': 0.3}\n",
      "2024-06-01 12:57:54,793 - ArgumentLogger - INFO - mtl-decoders: {'hidden_nn': [1024], 'dropout': 0.3}\n",
      "2024-06-01 12:57:54,793 - ArgumentLogger - INFO - mtl-decoders: {'hidden_nn': [1024], 'dropout': 0.3}\n",
      "2024-06-01 12:57:54,794 - ArgumentLogger - INFO - stl-decoders: {'hidden_nn': [4096, 1024, 1024], 'dropout': 0.3}\n",
      "2024-06-01 12:57:54,794 - ArgumentLogger - INFO - stl-decoders: {'hidden_nn': [4096, 1024, 1024], 'dropout': 0.3}\n",
      "2024-06-01 12:57:54,795 - ArgumentLogger - INFO - training: {'checkpoint_name': 'mtl-test', 'epochs': 100, 'patience': 10}\n",
      "2024-06-01 12:57:54,795 - ArgumentLogger - INFO - training: {'checkpoint_name': 'mtl-test', 'epochs': 100, 'patience': 10}\n",
      "2024-06-01 12:57:54,797 - ArgumentLogger - INFO - optim_param: {'optim': 'sgdp', 'lr': 0.01, 'weight_decay': 0.01, 'betas': [0.9, 0.999]}\n",
      "2024-06-01 12:57:54,797 - ArgumentLogger - INFO - optim_param: {'optim': 'sgdp', 'lr': 0.01, 'weight_decay': 0.01, 'betas': [0.9, 0.999]}\n",
      "2024-06-01 12:57:54,798 - ArgumentLogger - INFO - scheduler_param: {'scheduler': 'step', 'step_size': 10, 'gamma': 0.001}\n",
      "2024-06-01 12:57:54,798 - ArgumentLogger - INFO - scheduler_param: {'scheduler': 'step', 'step_size': 10, 'gamma': 0.001}\n",
      "2024-06-01 12:57:54,800 - ArgumentLogger - INFO - mtl: {'weighting': 'GradNorm', 'architecture': 'HPS', 'kwargs': {'weight_args': {'alpha': 1.5}, 'arch_args': {}}}\n",
      "2024-06-01 12:57:54,800 - ArgumentLogger - INFO - mtl: {'weighting': 'GradNorm', 'architecture': 'HPS', 'kwargs': {'weight_args': {'alpha': 1.5}, 'arch_args': {}}}\n"
     ]
    },
    {
     "name": "stdout",
     "output_type": "stream",
     "text": [
      "device: cpu\n"
     ]
    }
   ],
   "source": [
    "paths, constants, config, logger, device = get_commons()"
   ]
  },
  {
   "cell_type": "code",
   "execution_count": 3,
   "metadata": {},
   "outputs": [],
   "source": [
    "model_name = config['embeddings']['model']\n",
    "embedding_size = constants['embedding_sizes'][model_name]\n",
    "stats_size = 0"
   ]
  },
  {
   "cell_type": "code",
   "execution_count": 4,
   "metadata": {},
   "outputs": [],
   "source": [
    "dataframes = {task: pd.read_csv(paths['split'][model_name][task], header=[0, 1], index_col=0).drop('STATS', axis='columns') for task in constants['tasks']}\n",
    "datasets = {task: SingleInputDataset(dataframe) for task, dataframe in dataframes.items()}\n",
    "dataloaders = get_mtl_dataloaders(datasets, config['split']['train'], config['split']['test'], config['dataloaders'], logger=logger)\n",
    "dataloaders"
   ]
  },
  {
   "cell_type": "code",
   "execution_count": null,
   "metadata": {},
   "outputs": [],
   "source": [
    "input_size = [config['encoder']['nn'][-1]]\n",
    "decoders = nn.ModuleDict({\n",
    "    'mbti': Decoder(input_size + config['mtl-decoders']['hidden_nn'] + [4], final='sigmoid', dropout=config['mtl-decoders']['dropout']).to(device),\n",
    "    'bigfive_c': Decoder(input_size + config['mtl-decoders']['hidden_nn'] + [5], final='sigmoid', dropout=config['mtl-decoders']['dropout']).to(device),\n",
    "    'bigfive_s': Decoder(input_size + config['mtl-decoders']['hidden_nn'] + [5], final='none', dropout=config['mtl-decoders']['dropout']).to(device)\n",
    "    })"
   ]
  },
  {
   "cell_type": "code",
   "execution_count": null,
   "metadata": {},
   "outputs": [],
   "source": [
    "task_dict = {\n",
    "  'mbti': {\n",
    "    'metrics': ['MSE'],\n",
    "    'metrics_fn': BCEMetric(),\n",
    "    'loss_fn': mtl.loss.CELoss(),\n",
    "    'weight': [0]\n",
    "  },\n",
    "  'bigfive_c': {\n",
    "    'metrics': ['MSE'],\n",
    "    'metrics_fn': BCEMetric(),\n",
    "    'loss_fn': mtl.loss.CELoss(),\n",
    "    'weight': [0]\n",
    "  },\n",
    "  'bigfive_s': {\n",
    "    'metrics': ['MSE'],\n",
    "    'metrics_fn': MAEMetric(),\n",
    "    'loss_fn': mtl.loss.MSELoss(),\n",
    "    'weight': [0] # 0 means high loss is bad\n",
    "  },\n",
    "}"
   ]
  },
  {
   "cell_type": "code",
   "execution_count": null,
   "metadata": {},
   "outputs": [
    {
     "name": "stdout",
     "output_type": "stream",
     "text": [
      "========================================\n",
      "Total Params: 10508305\n",
      "Trainable Params: 10508305\n",
      "Non-trainable Params: 0\n",
      "========================================\n",
      "LOG FORMAT | mbti_LOSS MSE | bigfive_c_LOSS MSE | bigfive_s_LOSS MSE | TIME\n"
     ]
    }
   ],
   "source": [
    "args = config[\"mtl\"]\n",
    "mtl_trainer = MTLTrainer(\n",
    "    task_dict=task_dict,\n",
    "    weighting=args[\"weighting\"],\n",
    "    architecture=args[\"architecture\"],\n",
    "    encoder_class=Encoder,\n",
    "    decoders=decoders,\n",
    "    rep_grad=True,\n",
    "    multi_input=True,\n",
    "    optim_param=config[\"optim_param\"],\n",
    "    scheduler_param=config[\"scheduler_param\"],\n",
    "    device=device,\n",
    "    save_path=paths[\"training\"][\"mtl_save\"],\n",
    "    **args[\"kwargs\"]\n",
    ")"
   ]
  },
  {
   "cell_type": "code",
   "execution_count": null,
   "metadata": {},
   "outputs": [
    {
     "name": "stderr",
     "output_type": "stream",
     "text": [
      "Epoch 0, Allocated 0.0GB, Cached 0.0GB: 100%|██████████| 17/17 [00:29<00:00,  1.71s/batch]"
     ]
    },
    {
     "name": "stdout",
     "output_type": "stream",
     "text": [
      "Epoch: 0000 | TRAIN: 1.7786 37.4113 | 4.1706 3.0105 | 1367.8913 30.3965 | Time: 29.2706 | "
     ]
    },
    {
     "name": "stderr",
     "output_type": "stream",
     "text": [
      "\n"
     ]
    },
    {
     "name": "stdout",
     "output_type": "stream",
     "text": [
      "VAL: 1.7777 48.5922 | 4.1324 6.7007 | 1068.6784 28.0461 | Time: 2.9833 | TEST: 1.7777 48.5922 | 4.1324 6.7007 | 1068.6784 28.0461 | Time: 3.1103\n",
      "Save Model 0 to /cluster/work/stefandt/pers-pred/checkpoints/mtl/best.pt\n"
     ]
    },
    {
     "name": "stderr",
     "output_type": "stream",
     "text": [
      "Epoch 1, Allocated 0.0GB, Cached 0.0GB: 100%|██████████| 17/17 [00:44<00:00,  2.62s/batch]"
     ]
    },
    {
     "name": "stdout",
     "output_type": "stream",
     "text": [
      "Epoch: 0001 | TRAIN: 1.7785 47.0580 | 4.1269 6.1881 | 1024.5507 27.5517 | Time: 44.5743 | "
     ]
    },
    {
     "name": "stderr",
     "output_type": "stream",
     "text": [
      "\n"
     ]
    },
    {
     "name": "stdout",
     "output_type": "stream",
     "text": [
      "VAL: 1.7777 48.0597 | 4.1324 4.8599 | 941.9759 26.7792 | Time: 3.1045 | TEST: 1.7777 48.0597 | 4.1324 4.8599 | 941.9759 26.7792 | Time: 3.0008\n",
      "Save Model 1 to /cluster/work/stefandt/pers-pred/checkpoints/mtl/best.pt\n"
     ]
    },
    {
     "name": "stderr",
     "output_type": "stream",
     "text": [
      "Epoch 2, Allocated 0.0GB, Cached 0.0GB: 100%|██████████| 17/17 [00:45<00:00,  2.69s/batch]"
     ]
    },
    {
     "name": "stdout",
     "output_type": "stream",
     "text": [
      "Epoch: 0002 | TRAIN: 1.7768 48.0794 | 4.1399 4.8855 | 942.5902 26.7568 | Time: 45.6501 | "
     ]
    },
    {
     "name": "stderr",
     "output_type": "stream",
     "text": [
      "\n"
     ]
    },
    {
     "name": "stdout",
     "output_type": "stream",
     "text": [
      "VAL: 1.7777 48.0958 | 4.1324 4.9642 | 934.5260 26.7219 | Time: 3.3326 | TEST: 1.7777 48.0958 | 4.1324 4.9642 | 934.5260 26.7219 | Time: 3.1440\n"
     ]
    },
    {
     "name": "stderr",
     "output_type": "stream",
     "text": [
      "Epoch 3, Allocated 0.0GB, Cached 0.0GB: 100%|██████████| 17/17 [00:44<00:00,  2.65s/batch]"
     ]
    },
    {
     "name": "stdout",
     "output_type": "stream",
     "text": [
      "Epoch: 0003 | TRAIN: 1.7791 48.0864 | 4.1217 4.9765 | 939.6957 26.7558 | Time: 44.9871 | "
     ]
    },
    {
     "name": "stderr",
     "output_type": "stream",
     "text": [
      "\n"
     ]
    },
    {
     "name": "stdout",
     "output_type": "stream",
     "text": [
      "VAL: 1.7777 48.0966 | 4.1324 4.9663 | 934.3993 26.7210 | Time: 3.1628 | TEST: 1.7777 48.0966 | 4.1324 4.9663 | 934.3993 26.7210 | Time: 3.0132\n"
     ]
    },
    {
     "name": "stderr",
     "output_type": "stream",
     "text": [
      "Epoch 4, Allocated 0.0GB, Cached 0.0GB: 100%|██████████| 17/17 [00:45<00:00,  2.68s/batch]"
     ]
    },
    {
     "name": "stdout",
     "output_type": "stream",
     "text": [
      "Epoch: 0004 | TRAIN: 1.7790 48.0841 | 4.1234 4.9831 | 940.0425 26.7695 | Time: 45.6302 | "
     ]
    },
    {
     "name": "stderr",
     "output_type": "stream",
     "text": [
      "\n"
     ]
    },
    {
     "name": "stdout",
     "output_type": "stream",
     "text": [
      "VAL: 1.7777 48.0966 | 4.1324 4.9663 | 934.3992 26.7210 | Time: 3.5121 | TEST: 1.7777 48.0966 | 4.1324 4.9663 | 934.3992 26.7210 | Time: 3.2185\n"
     ]
    },
    {
     "name": "stderr",
     "output_type": "stream",
     "text": [
      "Epoch 5, Allocated 0.0GB, Cached 0.0GB: 100%|██████████| 17/17 [00:44<00:00,  2.63s/batch]"
     ]
    },
    {
     "name": "stdout",
     "output_type": "stream",
     "text": [
      "Epoch: 0005 | TRAIN: 1.7772 48.1047 | 4.1352 4.9641 | 943.5989 26.8345 | Time: 44.7481 | "
     ]
    },
    {
     "name": "stderr",
     "output_type": "stream",
     "text": [
      "\n"
     ]
    },
    {
     "name": "stdout",
     "output_type": "stream",
     "text": [
      "VAL: 1.7777 48.0966 | 4.1324 4.9663 | 934.3992 26.7210 | Time: 3.3752 | TEST: 1.7777 48.0966 | 4.1324 4.9663 | 934.3992 26.7210 | Time: 3.1833\n"
     ]
    },
    {
     "name": "stderr",
     "output_type": "stream",
     "text": [
      "Epoch 6, Allocated 0.0GB, Cached 0.0GB: 100%|██████████| 17/17 [00:45<00:00,  2.68s/batch]"
     ]
    },
    {
     "name": "stdout",
     "output_type": "stream",
     "text": [
      "Epoch: 0006 | TRAIN: 1.7758 48.1543 | 4.1327 4.9699 | 940.8655 26.7776 | Time: 45.5905 | "
     ]
    },
    {
     "name": "stderr",
     "output_type": "stream",
     "text": [
      "\n"
     ]
    },
    {
     "name": "stdout",
     "output_type": "stream",
     "text": [
      "VAL: 1.7777 48.0966 | 4.1324 4.9663 | 934.3992 26.7210 | Time: 3.3348 | TEST: 1.7777 48.0966 | 4.1324 4.9663 | 934.3992 26.7210 | Time: 3.2025\n"
     ]
    },
    {
     "name": "stderr",
     "output_type": "stream",
     "text": [
      "Epoch 7, Allocated 0.0GB, Cached 0.0GB: 100%|██████████| 17/17 [00:44<00:00,  2.60s/batch]"
     ]
    },
    {
     "name": "stdout",
     "output_type": "stream",
     "text": [
      "Epoch: 0007 | TRAIN: 1.7775 48.1240 | 4.1388 4.9641 | 944.8311 26.8516 | Time: 44.2296 | "
     ]
    },
    {
     "name": "stderr",
     "output_type": "stream",
     "text": [
      "\n"
     ]
    },
    {
     "name": "stdout",
     "output_type": "stream",
     "text": [
      "VAL: 1.7777 48.0966 | 4.1324 4.9663 | 934.3992 26.7210 | Time: 3.0572 | TEST: 1.7777 48.0966 | 4.1324 4.9663 | 934.3992 26.7210 | Time: 3.2831\n"
     ]
    },
    {
     "name": "stderr",
     "output_type": "stream",
     "text": [
      "Epoch 8, Allocated 0.0GB, Cached 0.0GB: 100%|██████████| 17/17 [00:45<00:00,  2.68s/batch]"
     ]
    },
    {
     "name": "stdout",
     "output_type": "stream",
     "text": [
      "Epoch: 0008 | TRAIN: 1.7780 48.1057 | 4.1300 4.9760 | 937.3058 26.7206 | Time: 45.6035 | "
     ]
    },
    {
     "name": "stderr",
     "output_type": "stream",
     "text": [
      "\n"
     ]
    },
    {
     "name": "stdout",
     "output_type": "stream",
     "text": [
      "VAL: 1.7777 48.0966 | 4.1324 4.9663 | 934.3992 26.7210 | Time: 3.2089 | TEST: 1.7777 48.0966 | 4.1324 4.9663 | 934.3992 26.7210 | Time: 3.3154\n"
     ]
    },
    {
     "name": "stderr",
     "output_type": "stream",
     "text": [
      "Epoch 9, Allocated 0.0GB, Cached 0.0GB: 100%|██████████| 17/17 [00:44<00:00,  2.62s/batch]"
     ]
    },
    {
     "name": "stdout",
     "output_type": "stream",
     "text": [
      "Epoch: 0009 | TRAIN: 1.7778 48.1178 | 4.1393 4.9619 | 938.4634 26.7521 | Time: 44.6083 | "
     ]
    },
    {
     "name": "stderr",
     "output_type": "stream",
     "text": [
      "\n"
     ]
    },
    {
     "name": "stdout",
     "output_type": "stream",
     "text": [
      "VAL: 1.7777 48.0966 | 4.1324 4.9663 | 934.3992 26.7210 | Time: 3.1983 | TEST: 1.7777 48.0966 | 4.1324 4.9663 | 934.3992 26.7210 | Time: 3.3100\n"
     ]
    },
    {
     "name": "stderr",
     "output_type": "stream",
     "text": [
      "Epoch 10, Allocated 0.0GB, Cached 0.0GB: 100%|██████████| 17/17 [00:45<00:00,  2.66s/batch]"
     ]
    },
    {
     "name": "stdout",
     "output_type": "stream",
     "text": [
      "Epoch: 0010 | TRAIN: 1.7753 48.1600 | 4.1351 4.9672 | 940.3865 26.7860 | Time: 45.2485 | "
     ]
    },
    {
     "name": "stderr",
     "output_type": "stream",
     "text": [
      "\n"
     ]
    },
    {
     "name": "stdout",
     "output_type": "stream",
     "text": [
      "VAL: 1.7777 48.0966 | 4.1324 4.9663 | 934.3992 26.7210 | Time: 3.2164 | Early stopping at epoch 10\n",
      "========================================\n",
      "Best Result: Epoch 1, result {'mbti': [48.05974663628472], 'bigfive_c': [4.859935601552327], 'bigfive_s': [26.779177711923744]}\n",
      "========================================\n"
     ]
    }
   ],
   "source": [
    "mtl_trainer.train(\n",
    "          train_dataloaders=dataloaders[\"train\"],\n",
    "          test_dataloaders=dataloaders[\"test\"],\n",
    "          val_dataloaders=dataloaders[\"val\"],\n",
    "          epochs=config[\"training\"][\"epochs\"],\n",
    "          patience=config[\"training\"][\"patience\"]\n",
    "        )"
   ]
  }
 ],
 "metadata": {
  "kernelspec": {
   "display_name": "ppconda",
   "language": "python",
   "name": "python3"
  },
  "language_info": {
   "codemirror_mode": {
    "name": "ipython",
    "version": 3
   },
   "file_extension": ".py",
   "mimetype": "text/x-python",
   "name": "python",
   "nbconvert_exporter": "python",
   "pygments_lexer": "ipython3",
   "version": "3.11.6"
  },
  "orig_nbformat": 4
 },
 "nbformat": 4,
 "nbformat_minor": 2
}
