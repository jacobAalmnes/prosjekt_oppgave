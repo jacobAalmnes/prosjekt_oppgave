{
 "cells": [
  {
   "cell_type": "code",
   "execution_count": 1,
   "metadata": {},
   "outputs": [
    {
     "name": "stderr",
     "output_type": "stream",
     "text": [
      "/cluster/home/stefandt/anaconda3/envs/ppconda/lib/python3.11/site-packages/tqdm/auto.py:21: TqdmWarning: IProgress not found. Please update jupyter and ipywidgets. See https://ipywidgets.readthedocs.io/en/stable/user_install.html\n",
      "  from .autonotebook import tqdm as notebook_tqdm\n"
     ]
    },
    {
     "name": "stdout",
     "output_type": "stream",
     "text": [
      "device: cpu\n"
     ]
    }
   ],
   "source": [
    "import logging\n",
    "import sys\n",
    "from pathlib import Path\n",
    "import pandas as pd\n",
    "import torch\n",
    "from torchmetrics.classification import MultilabelAccuracy\n",
    "from torchmetrics.regression import MeanSquaredError\n",
    "from torch import nn\n",
    "\n",
    "proj_path = Path('/cluster') / 'work' / 'jacobaal' / 'pers-pred'\n",
    "proj_path = proj_path.resolve()\n",
    "if proj_path not in sys.path: sys.path.append(str(proj_path))\n",
    "\n",
    "from torch.utils.data import DataLoader\n",
    "from src.ffn import Decoder\n",
    "from src.datasets import SingleInputDataset, get_stl_dataloaders\n",
    "from src.trainer import train, get_optimizer, get_scheduler\n",
    "from src.utils import get_commons"
   ]
  },
  {
   "cell_type": "code",
   "execution_count": 2,
   "metadata": {},
   "outputs": [
    {
     "name": "stderr",
     "output_type": "stream",
     "text": [
      "2024-06-01 12:59:52,276 - ArgumentLogger - INFO - Arguments:\n",
      "2024-06-01 12:59:52,276 - ArgumentLogger - INFO - Arguments:\n",
      "2024-06-01 12:59:52,278 - ArgumentLogger - INFO - seed: 42\n",
      "2024-06-01 12:59:52,278 - ArgumentLogger - INFO - seed: 42\n",
      "2024-06-01 12:59:52,279 - ArgumentLogger - INFO - dataframe: {'generate': False, 'mbti_frac': 0.1, 'bigfive_c_frac': 1.0, 'bigfive_s_frac': 1.0}\n",
      "2024-06-01 12:59:52,279 - ArgumentLogger - INFO - dataframe: {'generate': False, 'mbti_frac': 0.1, 'bigfive_c_frac': 1.0, 'bigfive_s_frac': 1.0}\n",
      "2024-06-01 12:59:52,281 - ArgumentLogger - INFO - eda: {'generate': False}\n",
      "2024-06-01 12:59:52,281 - ArgumentLogger - INFO - eda: {'generate': False}\n",
      "2024-06-01 12:59:52,282 - ArgumentLogger - INFO - reduce: {'generate': False, 'use_full': False}\n",
      "2024-06-01 12:59:52,282 - ArgumentLogger - INFO - reduce: {'generate': False, 'use_full': False}\n",
      "2024-06-01 12:59:52,283 - ArgumentLogger - INFO - preprocessing: {'generate_features': False, 'generate_partially_cleaned': False, 'generate_cleaned': False, 'generate_embeddings': False, 'generate_aggregated': True, 'generate_glove': False, 'generate_filled': True}\n",
      "2024-06-01 12:59:52,283 - ArgumentLogger - INFO - preprocessing: {'generate_features': False, 'generate_partially_cleaned': False, 'generate_cleaned': False, 'generate_embeddings': False, 'generate_aggregated': True, 'generate_glove': False, 'generate_filled': True}\n",
      "2024-06-01 12:59:52,285 - ArgumentLogger - INFO - tokenizer: {'do_lower_case': True, 'padding_side': 'right', 'truncation_side': 'right', 'max_length': 128, 'padding': 'max_length', 'truncation': True}\n",
      "2024-06-01 12:59:52,285 - ArgumentLogger - INFO - tokenizer: {'do_lower_case': True, 'padding_side': 'right', 'truncation_side': 'right', 'max_length': 128, 'padding': 'max_length', 'truncation': True}\n",
      "2024-06-01 12:59:52,286 - ArgumentLogger - INFO - split: {'train': 0.8, 'test': 0.1}\n",
      "2024-06-01 12:59:52,286 - ArgumentLogger - INFO - split: {'train': 0.8, 'test': 0.1}\n",
      "2024-06-01 12:59:52,288 - ArgumentLogger - INFO - dataloaders: {'train': {'num_workers': 1, 'pin_memory': False, 'batch_size': 1028, 'shuffle': True, 'drop_last': True}, 'test': {'num_workers': 1, 'pin_memory': False, 'batch_size': 1028, 'shuffle': False, 'drop_last': False}, 'val': {'num_workers': 1, 'pin_memory': False, 'batch_size': 1028, 'shuffle': False, 'drop_last': False}}\n",
      "2024-06-01 12:59:52,288 - ArgumentLogger - INFO - dataloaders: {'train': {'num_workers': 1, 'pin_memory': False, 'batch_size': 1028, 'shuffle': True, 'drop_last': True}, 'test': {'num_workers': 1, 'pin_memory': False, 'batch_size': 1028, 'shuffle': False, 'drop_last': False}, 'val': {'num_workers': 1, 'pin_memory': False, 'batch_size': 1028, 'shuffle': False, 'drop_last': False}}\n",
      "2024-06-01 12:59:52,359 - ArgumentLogger - INFO - embeddings: {'model': 'tw-roberta'}\n",
      "2024-06-01 12:59:52,359 - ArgumentLogger - INFO - embeddings: {'model': 'tw-roberta'}\n",
      "2024-06-01 12:59:52,360 - ArgumentLogger - INFO - encoder: {'nn': [768, 4096, 1024], 'dropout': 0.3}\n",
      "2024-06-01 12:59:52,360 - ArgumentLogger - INFO - encoder: {'nn': [768, 4096, 1024], 'dropout': 0.3}\n",
      "2024-06-01 12:59:52,360 - ArgumentLogger - INFO - mtl-decoders: {'hidden_nn': [1024], 'dropout': 0.3}\n",
      "2024-06-01 12:59:52,360 - ArgumentLogger - INFO - mtl-decoders: {'hidden_nn': [1024], 'dropout': 0.3}\n",
      "2024-06-01 12:59:52,361 - ArgumentLogger - INFO - stl-decoders: {'hidden_nn': [4096, 1024, 1024], 'dropout': 0.3}\n",
      "2024-06-01 12:59:52,361 - ArgumentLogger - INFO - stl-decoders: {'hidden_nn': [4096, 1024, 1024], 'dropout': 0.3}\n",
      "2024-06-01 12:59:52,362 - ArgumentLogger - INFO - training: {'checkpoint_name': 'mtl-test', 'epochs': 100, 'patience': 10}\n",
      "2024-06-01 12:59:52,362 - ArgumentLogger - INFO - training: {'checkpoint_name': 'mtl-test', 'epochs': 100, 'patience': 10}\n",
      "2024-06-01 12:59:52,363 - ArgumentLogger - INFO - optim_param: {'optim': 'sgdp', 'lr': 0.01, 'weight_decay': 0.01, 'betas': [0.9, 0.999]}\n",
      "2024-06-01 12:59:52,363 - ArgumentLogger - INFO - optim_param: {'optim': 'sgdp', 'lr': 0.01, 'weight_decay': 0.01, 'betas': [0.9, 0.999]}\n",
      "2024-06-01 12:59:52,364 - ArgumentLogger - INFO - scheduler_param: {'scheduler': 'step', 'step_size': 10, 'gamma': 0.001}\n",
      "2024-06-01 12:59:52,364 - ArgumentLogger - INFO - scheduler_param: {'scheduler': 'step', 'step_size': 10, 'gamma': 0.001}\n",
      "2024-06-01 12:59:52,369 - ArgumentLogger - INFO - mtl: {'weighting': 'GradNorm', 'architecture': 'HPS', 'kwargs': {'weight_args': {'alpha': 1.5}, 'arch_args': {}}}\n",
      "2024-06-01 12:59:52,369 - ArgumentLogger - INFO - mtl: {'weighting': 'GradNorm', 'architecture': 'HPS', 'kwargs': {'weight_args': {'alpha': 1.5}, 'arch_args': {}}}\n"
     ]
    },
    {
     "name": "stdout",
     "output_type": "stream",
     "text": [
      "device: cpu\n"
     ]
    }
   ],
   "source": [
    "paths, constants, config, logger, device = get_commons(log=True)"
   ]
  },
  {
   "cell_type": "code",
   "execution_count": 3,
   "metadata": {},
   "outputs": [],
   "source": [
    "model_name = config['embeddings']['model']\n",
    "embedding_size = constants['embedding_sizes'][model_name]\n",
    "stats_size = 0"
   ]
  },
  {
   "cell_type": "code",
   "execution_count": 5,
   "metadata": {},
   "outputs": [
    {
     "data": {
      "text/plain": [
       "{'mbti': {'train': <torch.utils.data.dataloader.DataLoader at 0x15087d9da190>,\n",
       "  'test': <torch.utils.data.dataloader.DataLoader at 0x15087d9da3d0>,\n",
       "  'val': <torch.utils.data.dataloader.DataLoader at 0x15087c3b6b10>},\n",
       " 'bigfive_c': {'train': <torch.utils.data.dataloader.DataLoader at 0x150877843b50>,\n",
       "  'test': <torch.utils.data.dataloader.DataLoader at 0x150876bc3350>,\n",
       "  'val': <torch.utils.data.dataloader.DataLoader at 0x150876bc3290>},\n",
       " 'bigfive_s': {'train': <torch.utils.data.dataloader.DataLoader at 0x150876bc31d0>,\n",
       "  'test': <torch.utils.data.dataloader.DataLoader at 0x150876bc3050>,\n",
       "  'val': <torch.utils.data.dataloader.DataLoader at 0x150876bc2f90>}}"
      ]
     },
     "execution_count": 5,
     "metadata": {},
     "output_type": "execute_result"
    }
   ],
   "source": [
    "dataframes = {task: pd.read_csv(paths['split'][model_name][task], header=[0, 1], index_col=0).drop('STATS', axis='columns') for task in constants['tasks']}\n",
    "datasets = {task: SingleInputDataset(dataframe) for task, dataframe in dataframes.items()}\n",
    "dataloaders = {task: get_stl_dataloaders(dataset, config['split']['train'], config['split']['test'], config['dataloaders']) for task, dataset in datasets.items()}\n",
    "dataloaders"
   ]
  },
  {
   "cell_type": "code",
   "execution_count": null,
   "metadata": {},
   "outputs": [],
   "source": [
    "input_size = [embedding_size + stats_size]\n",
    "decoders = {\n",
    "    'mbti': Decoder(input_size + config['stl-decoders']['hidden_nn'] + [4], final='sigmoid', dropout=config['stl-decoders']['dropout']).to(device),\n",
    "    'bigfive_c': Decoder(input_size + config['stl-decoders']['hidden_nn'] + [5], final='sigmoid', dropout=config['stl-decoders']['dropout']).to(device),\n",
    "    'bigfive_s': Decoder(input_size + config['stl-decoders']['hidden_nn'] + [5], final='none', dropout=config['stl-decoders']['dropout']).to(device)\n",
    "    }"
   ]
  },
  {
   "cell_type": "code",
   "execution_count": null,
   "metadata": {},
   "outputs": [],
   "source": [
    "alg, optim_arg = get_optimizer(config['optim_param'])\n",
    "optimizers = {task: alg(decoders[task].parameters(), **optim_arg) for task in constants[\"tasks\"]}\n",
    "schedulers = {k: get_scheduler(v, config['scheduler_param']) for k, v in optimizers.items()}"
   ]
  },
  {
   "cell_type": "code",
   "execution_count": null,
   "metadata": {},
   "outputs": [],
   "source": [
    "loss_fns = {\n",
    "    'mbti': nn.BCELoss(),\n",
    "    'bigfive_c': nn.BCELoss(),\n",
    "    'bigfive_s': nn.MSELoss()\n",
    "    }\n",
    "\n",
    "metrics = {\n",
    "    'mbti': MultilabelAccuracy(num_labels=4),\n",
    "    'bigfive_c': MultilabelAccuracy(num_labels=5),\n",
    "    'bigfive_s': MeanSquaredError()\n",
    "}"
   ]
  },
  {
   "cell_type": "code",
   "execution_count": null,
   "metadata": {},
   "outputs": [],
   "source": [
    "def exec_task(task:str):\n",
    "    return train(\n",
    "        decoders[task], \n",
    "        dataloaders[task], \n",
    "        optimizers[task], \n",
    "        loss_fns[task], \n",
    "        metric_fn=metrics[task],\n",
    "        n_epochs=config['training']['epochs'], \n",
    "        checkpoint_name=config['training']['checkpoint_name'], \n",
    "        patience=config['training']['patience'],\n",
    "        device=device,\n",
    "        logger=logger,\n",
    "        higher_is_better=True,\n",
    "        scheduler=schedulers[task]\n",
    "    )"
   ]
  },
  {
   "cell_type": "code",
   "execution_count": null,
   "metadata": {},
   "outputs": [
    {
     "name": "stderr",
     "output_type": "stream",
     "text": [
      "2024-06-01 11:04:30,348 - ArgumentLogger - INFO - Model: Decoder(\n",
      "  (model): Sequential(\n",
      "    (0): Linear(in_features=768, out_features=4096, bias=True)\n",
      "    (1): ReLU()\n",
      "    (2): Dropout(p=0.3, inplace=False)\n",
      "    (3): Linear(in_features=4096, out_features=1024, bias=True)\n",
      "    (4): ReLU()\n",
      "    (5): Dropout(p=0.3, inplace=False)\n",
      "    (6): Linear(in_features=1024, out_features=1024, bias=True)\n",
      "    (7): ReLU()\n",
      "    (8): Dropout(p=0.3, inplace=False)\n",
      "    (9): Linear(in_features=1024, out_features=4, bias=True)\n",
      "    (10): Sigmoid()\n",
      "  )\n",
      ")\n",
      "2024-06-01 11:04:30,348 - ArgumentLogger - INFO - Model: Decoder(\n",
      "  (model): Sequential(\n",
      "    (0): Linear(in_features=768, out_features=4096, bias=True)\n",
      "    (1): ReLU()\n",
      "    (2): Dropout(p=0.3, inplace=False)\n",
      "    (3): Linear(in_features=4096, out_features=1024, bias=True)\n",
      "    (4): ReLU()\n",
      "    (5): Dropout(p=0.3, inplace=False)\n",
      "    (6): Linear(in_features=1024, out_features=1024, bias=True)\n",
      "    (7): ReLU()\n",
      "    (8): Dropout(p=0.3, inplace=False)\n",
      "    (9): Linear(in_features=1024, out_features=4, bias=True)\n",
      "    (10): Sigmoid()\n",
      "  )\n",
      ")\n"
     ]
    },
    {
     "name": "stdout",
     "output_type": "stream",
     "text": [
      "Dataloader train: 14192\n",
      "Dataloader test: 1774\n",
      "Dataloader val: 1775\n"
     ]
    },
    {
     "name": "stderr",
     "output_type": "stream",
     "text": [
      "EPOCH 11: Loss train: 0.155, val: 0.155 | Metric train: 0.670, val: 0.666:  11%|█         | 11/100 [01:23<11:19,  7.63s/it]"
     ]
    },
    {
     "name": "stdout",
     "output_type": "stream",
     "text": [
      "Early stopped after 10 epochs of no progress. Best validation metric 0.666\n"
     ]
    },
    {
     "name": "stderr",
     "output_type": "stream",
     "text": [
      "\n"
     ]
    },
    {
     "name": "stdout",
     "output_type": "stream",
     "text": [
      "Training finished after 0:01:24.997666. Test metric 0.676\n"
     ]
    }
   ],
   "source": [
    "exec_task('mbti')"
   ]
  },
  {
   "cell_type": "markdown",
   "metadata": {},
   "source": [
    "2024-05-20 09:32:15,232 - ArgumentLogger - INFO - <generator object train.<locals>.<genexpr> at 0x14a15c1fbb40>\n",
    "2024-05-20 09:32:15,234 - ArgumentLogger - INFO - Model: Decoder(\n",
    "  (model): Sequential(\n",
    "    (0): Linear(in_features=772, out_features=2048, bias=True)\n",
    "    (1): ReLU()\n",
    "    (2): Dropout(p=0.5, inplace=False)\n",
    "    (3): Linear(in_features=2048, out_features=2048, bias=True)\n",
    "    (4): ReLU()\n",
    "    (5): Dropout(p=0.5, inplace=False)\n",
    "    (6): Linear(in_features=2048, out_features=512, bias=True)\n",
    "    (7): ReLU()\n",
    "    (8): Dropout(p=0.5, inplace=False)\n",
    "    (9): Linear(in_features=512, out_features=4, bias=True)\n",
    "    (10): Sigmoid()\n",
    "  )\n",
    ")\n",
    "EPOCH 57: Loss train: 0.148, val: 0.148 | Metric train: 0.677, val: 0.679:  28%|██▊       | 57/200 [10:17<25:48, 10.83s/it]\n",
    "Training finished after 0:10:18.366500. Test metric 0.676\n"
   ]
  },
  {
   "cell_type": "markdown",
   "metadata": {},
   "source": [
    "2024-05-20 10:30:13,425 - ArgumentLogger - INFO - <generator object train.<locals>.<genexpr> at 0x152cac9ee640>\n",
    "2024-05-20 10:30:13,428 - ArgumentLogger - INFO - Model: Decoder(\n",
    "  (model): Sequential(\n",
    "    (0): Linear(in_features=772, out_features=1024, bias=True)\n",
    "    (1): ReLU()\n",
    "    (2): Dropout(p=0.3, inplace=False)\n",
    "    (3): Linear(in_features=1024, out_features=512, bias=True)\n",
    "    (4): ReLU()\n",
    "    (5): Dropout(p=0.3, inplace=False)\n",
    "    (6): Linear(in_features=512, out_features=4, bias=True)\n",
    "    (7): Sigmoid()\n",
    "  )\n",
    ")\n",
    "EPOCH 75: Loss train: 0.145, val: 0.144 | Metric train: 0.690, val: 0.694:  38%|███▊      | 75/200 [04:24<07:21,  3.53s/it]\n",
    "Early stopped after 12 epochs of no progress. Best validation metric 0.698\n",
    "\n",
    "Training finished after 0:04:25.947753. Test metric 0.687\n"
   ]
  },
  {
   "cell_type": "code",
   "execution_count": null,
   "metadata": {},
   "outputs": [
    {
     "name": "stderr",
     "output_type": "stream",
     "text": [
      "2024-06-01 11:05:56,491 - ArgumentLogger - INFO - Model: Decoder(\n",
      "  (model): Sequential(\n",
      "    (0): Linear(in_features=768, out_features=4096, bias=True)\n",
      "    (1): ReLU()\n",
      "    (2): Dropout(p=0.3, inplace=False)\n",
      "    (3): Linear(in_features=4096, out_features=1024, bias=True)\n",
      "    (4): ReLU()\n",
      "    (5): Dropout(p=0.3, inplace=False)\n",
      "    (6): Linear(in_features=1024, out_features=1024, bias=True)\n",
      "    (7): ReLU()\n",
      "    (8): Dropout(p=0.3, inplace=False)\n",
      "    (9): Linear(in_features=1024, out_features=5, bias=True)\n",
      "    (10): Sigmoid()\n",
      "  )\n",
      ")\n",
      "2024-06-01 11:05:56,491 - ArgumentLogger - INFO - Model: Decoder(\n",
      "  (model): Sequential(\n",
      "    (0): Linear(in_features=768, out_features=4096, bias=True)\n",
      "    (1): ReLU()\n",
      "    (2): Dropout(p=0.3, inplace=False)\n",
      "    (3): Linear(in_features=4096, out_features=1024, bias=True)\n",
      "    (4): ReLU()\n",
      "    (5): Dropout(p=0.3, inplace=False)\n",
      "    (6): Linear(in_features=1024, out_features=1024, bias=True)\n",
      "    (7): ReLU()\n",
      "    (8): Dropout(p=0.3, inplace=False)\n",
      "    (9): Linear(in_features=1024, out_features=5, bias=True)\n",
      "    (10): Sigmoid()\n",
      "  )\n",
      ")\n"
     ]
    },
    {
     "name": "stdout",
     "output_type": "stream",
     "text": [
      "Dataloader train: 2172\n",
      "Dataloader test: 271\n",
      "Dataloader val: 272\n"
     ]
    },
    {
     "name": "stderr",
     "output_type": "stream",
     "text": [
      "EPOCH 11: Loss train: 0.139, val: 0.139 | Metric train: 0.500, val: 0.514:  11%|█         | 11/100 [00:27<03:42,  2.50s/it]"
     ]
    },
    {
     "name": "stdout",
     "output_type": "stream",
     "text": [
      "Early stopped after 10 epochs of no progress. Best validation metric 0.516\n"
     ]
    },
    {
     "name": "stderr",
     "output_type": "stream",
     "text": [
      "\n"
     ]
    },
    {
     "name": "stdout",
     "output_type": "stream",
     "text": [
      "Training finished after 0:00:28.216062. Test metric 0.500\n"
     ]
    }
   ],
   "source": [
    "exec_task('bigfive_c')"
   ]
  },
  {
   "cell_type": "markdown",
   "metadata": {},
   "source": [
    "2024-05-20 09:42:34,083 - ArgumentLogger - INFO - <generator object train.<locals>.<genexpr> at 0x14a15bf8c940>\n",
    "2024-05-20 09:42:34,085 - ArgumentLogger - INFO - Model: Decoder(\n",
    "  (model): Sequential(\n",
    "    (0): Linear(in_features=772, out_features=2048, bias=True)\n",
    "    (1): ReLU()\n",
    "    (2): Dropout(p=0.5, inplace=False)\n",
    "    (3): Linear(in_features=2048, out_features=2048, bias=True)\n",
    "    (4): ReLU()\n",
    "    (5): Dropout(p=0.5, inplace=False)\n",
    "    (6): Linear(in_features=2048, out_features=512, bias=True)\n",
    "    (7): ReLU()\n",
    "    (8): Dropout(p=0.5, inplace=False)\n",
    "    (9): Linear(in_features=512, out_features=5, bias=True)\n",
    "    (10): Sigmoid()\n",
    "  )\n",
    ")\n",
    "EPOCH 13: Loss train: 0.141, val: 0.139 | Metric train: 0.504, val: 0.464:   6%|▋         | 13/200 [00:38<09:07,  2.93s/it]\n",
    "Training finished after 0:00:38.808136. Test metric 0.485\n"
   ]
  },
  {
   "cell_type": "code",
   "execution_count": null,
   "metadata": {},
   "outputs": [
    {
     "name": "stderr",
     "output_type": "stream",
     "text": [
      "2024-06-01 11:06:25,229 - ArgumentLogger - INFO - Model: Decoder(\n",
      "  (model): Sequential(\n",
      "    (0): Linear(in_features=768, out_features=4096, bias=True)\n",
      "    (1): ReLU()\n",
      "    (2): Dropout(p=0.3, inplace=False)\n",
      "    (3): Linear(in_features=4096, out_features=1024, bias=True)\n",
      "    (4): ReLU()\n",
      "    (5): Dropout(p=0.3, inplace=False)\n",
      "    (6): Linear(in_features=1024, out_features=1024, bias=True)\n",
      "    (7): ReLU()\n",
      "    (8): Dropout(p=0.3, inplace=False)\n",
      "    (9): Linear(in_features=1024, out_features=5, bias=True)\n",
      "  )\n",
      ")\n",
      "2024-06-01 11:06:25,229 - ArgumentLogger - INFO - Model: Decoder(\n",
      "  (model): Sequential(\n",
      "    (0): Linear(in_features=768, out_features=4096, bias=True)\n",
      "    (1): ReLU()\n",
      "    (2): Dropout(p=0.3, inplace=False)\n",
      "    (3): Linear(in_features=4096, out_features=1024, bias=True)\n",
      "    (4): ReLU()\n",
      "    (5): Dropout(p=0.3, inplace=False)\n",
      "    (6): Linear(in_features=1024, out_features=1024, bias=True)\n",
      "    (7): ReLU()\n",
      "    (8): Dropout(p=0.3, inplace=False)\n",
      "    (9): Linear(in_features=1024, out_features=5, bias=True)\n",
      "  )\n",
      ")\n"
     ]
    },
    {
     "name": "stdout",
     "output_type": "stream",
     "text": [
      "Dataloader train: 1452\n",
      "Dataloader test: 181\n",
      "Dataloader val: 183\n"
     ]
    },
    {
     "name": "stderr",
     "output_type": "stream",
     "text": [
      "EPOCH 12: Loss train: 614.032, val: 586.109 | Metric train: 3070.159, val: 2930.544:  12%|█▏        | 12/100 [00:25<03:07,  2.13s/it]"
     ]
    },
    {
     "name": "stdout",
     "output_type": "stream",
     "text": [
      "Early stopped after 10 epochs of no progress. Best validation metric 13138.345\n"
     ]
    },
    {
     "name": "stderr",
     "output_type": "stream",
     "text": [
      "\n"
     ]
    },
    {
     "name": "stdout",
     "output_type": "stream",
     "text": [
      "Training finished after 0:00:26.340916. Test metric 3125.406\n"
     ]
    }
   ],
   "source": [
    "exec_task('bigfive_s')"
   ]
  },
  {
   "cell_type": "markdown",
   "metadata": {},
   "source": [
    "2024-05-20 09:43:14,305 - ArgumentLogger - INFO - <generator object train.<locals>.<genexpr> at 0x14a161446a40>\n",
    "2024-05-20 09:43:14,308 - ArgumentLogger - INFO - Model: Decoder(\n",
    "  (model): Sequential(\n",
    "    (0): Linear(in_features=772, out_features=2048, bias=True)\n",
    "    (1): ReLU()\n",
    "    (2): Dropout(p=0.5, inplace=False)\n",
    "    (3): Linear(in_features=2048, out_features=2048, bias=True)\n",
    "    (4): ReLU()\n",
    "    (5): Dropout(p=0.5, inplace=False)\n",
    "    (6): Linear(in_features=2048, out_features=512, bias=True)\n",
    "    (7): ReLU()\n",
    "    (8): Dropout(p=0.5, inplace=False)\n",
    "    (9): Linear(in_features=512, out_features=5, bias=True)\n",
    "  )\n",
    ")\n",
    "EPOCH 14: Loss train: 306.757, val: 258.280 | Metric train: 578421.500, val: 447273.906:   7%|▋         | 14/200 [00:31<06:59,  2.26s/it]\n",
    "Training finished after 0:00:32.339656. Test metric 467401.594\n"
   ]
  }
 ],
 "metadata": {
  "kernelspec": {
   "display_name": "ppconda",
   "language": "python",
   "name": "python3"
  },
  "language_info": {
   "codemirror_mode": {
    "name": "ipython",
    "version": 3
   },
   "file_extension": ".py",
   "mimetype": "text/x-python",
   "name": "python",
   "nbconvert_exporter": "python",
   "pygments_lexer": "ipython3",
   "version": "3.11.6"
  }
 },
 "nbformat": 4,
 "nbformat_minor": 2
}
