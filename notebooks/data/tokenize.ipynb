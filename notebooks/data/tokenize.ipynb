{
 "cells": [
  {
   "cell_type": "code",
   "execution_count": 1,
   "metadata": {},
   "outputs": [
    {
     "name": "stderr",
     "output_type": "stream",
     "text": [
      "/cluster/home/stefandt/anaconda3/envs/ppconda/lib/python3.11/site-packages/tqdm/auto.py:21: TqdmWarning: IProgress not found. Please update jupyter and ipywidgets. See https://ipywidgets.readthedocs.io/en/stable/user_install.html\n",
      "  from .autonotebook import tqdm as notebook_tqdm\n",
      "2024-06-20 08:09:00,274 - ArgumentLogger - INFO - Arguments:\n",
      "2024-06-20 08:09:00,276 - ArgumentLogger - INFO - seed: 42\n",
      "2024-06-20 08:09:00,276 - ArgumentLogger - INFO - dataframe: {'generate': False, 'mbti_frac': 0.1, 'bigfive_c_frac': 1.0, 'bigfive_s_frac': 1.0}\n",
      "2024-06-20 08:09:00,277 - ArgumentLogger - INFO - eda: {'generate': False}\n",
      "2024-06-20 08:09:00,278 - ArgumentLogger - INFO - reduce: {'generate': False, 'use_full': False}\n",
      "2024-06-20 08:09:00,279 - ArgumentLogger - INFO - preprocessing: {'generate_features': False, 'generate_partially_cleaned': False, 'generate_cleaned': False, 'generate_embeddings': False, 'generate_aggregated': True, 'generate_glove': False, 'generate_filled': True}\n",
      "2024-06-20 08:09:00,279 - ArgumentLogger - INFO - imputation: {'num_of_clusters': 4, 'n_components': 2}\n",
      "2024-06-20 08:09:00,280 - ArgumentLogger - INFO - split: {'train': 0.8, 'test': 0.1}\n",
      "2024-06-20 08:09:00,281 - ArgumentLogger - INFO - dataloaders: {'train': {'num_workers': 1, 'pin_memory': False, 'batch_size': 1028, 'shuffle': True, 'drop_last': True}, 'test': {'num_workers': 1, 'pin_memory': False, 'batch_size': 1028, 'shuffle': False, 'drop_last': False}, 'val': {'num_workers': 1, 'pin_memory': False, 'batch_size': 1028, 'shuffle': False, 'drop_last': False}}\n",
      "2024-06-20 08:09:00,282 - ArgumentLogger - INFO - embeddings: {'model': 'tw-roberta', 'tokenizer': {'max_length': 128, 'padding': 'max_length', 'truncation': True}, 'dataloader': {'batch_size': 256, 'num_workers': 4, 'pin_memory': True, 'shuffle': False, 'drop_last': False}, 'non_blocking': True}\n",
      "2024-06-20 08:09:00,282 - ArgumentLogger - INFO - encoder: {'nn': [772, 4096, 1024], 'dropout': 0.3}\n",
      "2024-06-20 08:09:00,283 - ArgumentLogger - INFO - metrics: {'class': 'Acc', 'class-args': {'criteria': 'hamming'}, 'reg': 'MAE'}\n",
      "2024-06-20 08:09:00,284 - ArgumentLogger - INFO - mtl-decoders: {'hidden_nn': [1024], 'dropout': 0.3}\n",
      "2024-06-20 08:09:00,284 - ArgumentLogger - INFO - stl-decoders: {'hidden_nn': [4096, 1024, 1024], 'dropout': 0.3}\n",
      "2024-06-20 08:09:00,285 - ArgumentLogger - INFO - training: {'checkpoint_name': 'mtl-test', 'epochs': 100, 'patience': 15}\n",
      "2024-06-20 08:09:00,286 - ArgumentLogger - INFO - optim_param: {'optim': 'adamp', 'lr': 0.005, 'weight_decay': 0.01, 'betas': [0.9, 0.999]}\n",
      "2024-06-20 08:09:00,287 - ArgumentLogger - INFO - scheduler_param: {'scheduler': 'step', 'step_size': 10, 'gamma': 0.001}\n",
      "2024-06-20 08:09:00,288 - ArgumentLogger - INFO - mtl: {'weighting': 'GradNorm', 'architecture': 'HPS', 'kwargs': {'weight_args': {'alpha': 1.5}, 'arch_args': {}}}\n",
      "2024-06-20 08:09:00,289 - ArgumentLogger - INFO - experiment: {'task': 'weighting'}\n"
     ]
    },
    {
     "name": "stdout",
     "output_type": "stream",
     "text": [
      "device: cpu\n"
     ]
    }
   ],
   "source": [
    "import pandas as pd \n",
    "import missingno as msno\n",
    "import numpy as np\n",
    "import seaborn as sns\n",
    "import matplotlib.pyplot as plt\n",
    "\n",
    "import json\n",
    "import sys\n",
    "from pathlib import Path\n",
    "\n",
    "proj_path = Path('/cluster') / 'work' / 'stefandt' / 'pers-pred'\n",
    "resolved = proj_path.resolve()\n",
    "if resolved not in sys.path: sys.path.append(str(resolved))\n",
    "\n",
    "from src.utils import get_commons\n",
    "from transformers import DistilBertTokenizerFast\n",
    "\n",
    "paths, constants, config, logger, device = get_commons()"
   ]
  },
  {
   "cell_type": "code",
   "execution_count": 2,
   "metadata": {},
   "outputs": [],
   "source": [
    "df = pd.read_csv(paths['new']['no-emoji'], header=[0, 1], index_col=0)"
   ]
  },
  {
   "cell_type": "code",
   "execution_count": 3,
   "metadata": {},
   "outputs": [],
   "source": [
    "lengths = df[('TEXT', 'TEXT')].apply(lambda x: len(str(x)))"
   ]
  },
  {
   "cell_type": "code",
   "execution_count": 4,
   "metadata": {},
   "outputs": [
    {
     "data": {
      "text/plain": [
       "(41928,)"
      ]
     },
     "execution_count": 4,
     "metadata": {},
     "output_type": "execute_result"
    }
   ],
   "source": [
    "d140 = df.loc[lengths[lengths == 140].index][('TEXT', 'TEXT')]\n",
    "d140.shape"
   ]
  },
  {
   "cell_type": "code",
   "execution_count": 5,
   "metadata": {},
   "outputs": [
    {
     "data": {
      "text/plain": [
       "(54987,)"
      ]
     },
     "execution_count": 5,
     "metadata": {},
     "output_type": "execute_result"
    }
   ],
   "source": [
    "d200 = df.loc[lengths[lengths == 200].index][('TEXT', 'TEXT')]\n",
    "d200.shape"
   ]
  },
  {
   "cell_type": "code",
   "execution_count": 6,
   "metadata": {},
   "outputs": [
    {
     "name": "stderr",
     "output_type": "stream",
     "text": [
      "/cluster/home/stefandt/anaconda3/envs/ppconda/lib/python3.11/site-packages/huggingface_hub/file_download.py:1132: FutureWarning: `resume_download` is deprecated and will be removed in version 1.0.0. Downloads always resume when possible. If you want to force a new download, use `force_download=True`.\n",
      "  warnings.warn(\n"
     ]
    }
   ],
   "source": [
    "tokenizer = DistilBertTokenizerFast.from_pretrained('distilbert-base-uncased')"
   ]
  },
  {
   "cell_type": "code",
   "execution_count": 7,
   "metadata": {},
   "outputs": [
    {
     "data": {
      "text/plain": [
       "3703        N's conversations can go off on extreme tangen...\n",
       "4309        I do that a lot too.  Loosely defined, that co...\n",
       "4517        I was just actually about to, perhaps in a few...\n",
       "5039        I feel the exact same way but at the end of th...\n",
       "5660        Sorry, I guess I misinterpreted your post then...\n",
       "                                  ...                        \n",
       "17754433    MENTION She’s like oh mom! I also pray for the...\n",
       "17756124    Uni is a scam why am I paying £50 for a gown I...\n",
       "17756148    really craving some romantic love today where ...\n",
       "17756506    Need to organise. My poems are wandering aroun...\n",
       "17756529    How will you measure your writing legacy? (wro...\n",
       "Name: (TEXT, TEXT), Length: 41928, dtype: object"
      ]
     },
     "execution_count": 7,
     "metadata": {},
     "output_type": "execute_result"
    }
   ],
   "source": [
    "d140"
   ]
  },
  {
   "cell_type": "code",
   "execution_count": 8,
   "metadata": {},
   "outputs": [],
   "source": [
    "tokenize = lambda x: tokenizer(x).input_ids"
   ]
  },
  {
   "cell_type": "code",
   "execution_count": 9,
   "metadata": {},
   "outputs": [],
   "source": [
    "t140 = d140.apply(tokenize)"
   ]
  },
  {
   "cell_type": "code",
   "execution_count": 10,
   "metadata": {},
   "outputs": [],
   "source": [
    "t200 = d200.apply(tokenize)"
   ]
  },
  {
   "cell_type": "code",
   "execution_count": 11,
   "metadata": {},
   "outputs": [],
   "source": [
    "l140 = t140.apply(len).value_counts().sort_index()\n",
    "l200 = t200.apply(len).value_counts().sort_index()"
   ]
  },
  {
   "cell_type": "code",
   "execution_count": 12,
   "metadata": {},
   "outputs": [
    {
     "data": {
      "text/plain": [
       "<matplotlib.legend.Legend at 0x1496c9298710>"
      ]
     },
     "execution_count": 12,
     "metadata": {},
     "output_type": "execute_result"
    },
    {
     "data": {
      "image/png": "[encoded data removed]",
      "text/plain": [
       "<Figure size 640x480 with 1 Axes>"
      ]
     },
     "metadata": {},
     "output_type": "display_data"
    }
   ],
   "source": [
    "plt.figure()\n",
    "\n",
    "plt.plot(l140.index, l140.values, label='Originally 140 chars')\n",
    "plt.plot(l200.index, l200.values, label='Originally 200 chars')\n",
    "plt.xlabel('Length after tokenization')\n",
    "plt.ylabel('Number of posts')\n",
    "# plt.title(\"Distribution of Posts of Length 140 and 200 after Tokenization\")\n",
    "plt.legend()"
   ]
  }
 ],
 "metadata": {
  "kernelspec": {
   "display_name": "ppconda",
   "language": "python",
   "name": "python3"
  },
  "language_info": {
   "codemirror_mode": {
    "name": "ipython",
    "version": 3
   },
   "file_extension": ".py",
   "mimetype": "text/x-python",
   "name": "python",
   "nbconvert_exporter": "python",
   "pygments_lexer": "ipython3",
   "version": "3.11.6"
  },
  "orig_nbformat": 4
 },
 "nbformat": 4,
 "nbformat_minor": 2
}
